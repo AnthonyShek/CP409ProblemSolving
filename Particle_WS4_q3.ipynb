{
  "nbformat": 4,
  "nbformat_minor": 0,
  "metadata": {
    "colab": {
      "name": "PartWS4q3.ipynb",
      "provenance": [],
      "authorship_tag": "ABX9TyNOM/IFtHrCqQIdXOsCINUD"
    },
    "kernelspec": {
      "name": "python3",
      "display_name": "Python 3"
    },
    "language_info": {
      "name": "python"
    }
  },
  "cells": [
    {
      "cell_type": "code",
      "metadata": {
        "id": "JKoh58SMEs4r"
      },
      "source": [
        "b=[]\n",
        "b.append([0,0,0,0,0,0,0])\n",
        "b.append([0.25,0,0,0,0,0,0])\n",
        "b.append([0.24,0.29,0,0,0,0,0])\n",
        "b.append([0.19,0.27,0.33,0,0,0,0])\n",
        "b.append([0.12,0.2,0.3,0.45,0,0,0])\n",
        "b.append([0.1,0.16,0.25,0.3,0.6,0,0])\n",
        "b.append([0.1,0.08,0.12,0.25,0.4,1,0])\n",
        "\n",
        "s_dat= [0.5,0.45,0.42,0.4,0.38,0.35,0]\n",
        "yf = [0.25,0.45,0.2,0.1,0,0,0]\n",
        "\n",
        "import numpy as np\n",
        "b = np.array(b)\n",
        "\n",
        "yp=[]\n",
        "\n",
        "for i in range(len(s_dat)):\n",
        "  dyidt = 0\n",
        "  for j in range(i):\n",
        "    dyidt += b[i,j]*s[j]*yf[j]\n",
        "  dyidt -=s[i]*yf[i]\n",
        "  print(dyidt)\n",
        "  yp.append(yf[i]+dyidt)\n",
        "\n",
        "print(yp)\n",
        "print(sum(yp))"
      ],
      "execution_count": null,
      "outputs": []
    }
  ]
}